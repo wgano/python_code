{
 "cells": [
  {
   "cell_type": "code",
   "execution_count": 45,
   "id": "3df3a99d",
   "metadata": {},
   "outputs": [
    {
     "name": "stdout",
     "output_type": "stream",
     "text": [
      "[[1], [1, 1], [1, 2, 1], [1, 3, 3, 1], [1, 4, 6, 4, 1]]\n"
     ]
    }
   ],
   "source": [
    "numRows=5\n",
    "\n",
    "r = [[int(x/x)] for x in range(1,numRows+1)]\n",
    "for i in range(1,numRows):\n",
    "    for j in range(1,i+1):\n",
    "        if j==i:\n",
    "            k = 0\n",
    "        else:\n",
    "            k = r[i-1][j]\n",
    "        r[i].append(r[i-1][j-1]+k)\n",
    "print(r)"
   ]
  },
  {
   "cell_type": "code",
   "execution_count": 35,
   "id": "bf2fdaad",
   "metadata": {},
   "outputs": [
    {
     "data": {
      "text/plain": [
       "[[1, 1], [2], [3], [4]]"
      ]
     },
     "execution_count": 35,
     "metadata": {},
     "output_type": "execute_result"
    }
   ],
   "source": [
    "a=[[1],[2],[3],[4]]\n",
    "a[0].append(1)\n",
    "a"
   ]
  },
  {
   "cell_type": "code",
   "execution_count": 1,
   "id": "aac0fe3e",
   "metadata": {},
   "outputs": [
    {
     "data": {
      "text/plain": [
       "'s'"
      ]
     },
     "execution_count": 1,
     "metadata": {},
     "output_type": "execute_result"
    }
   ],
   "source": [
    "s=\"asdfhdgz\"\n",
    "s[1]"
   ]
  },
  {
   "cell_type": "code",
   "execution_count": 3,
   "id": "470879cc",
   "metadata": {},
   "outputs": [
    {
     "data": {
      "text/plain": [
       "[1, 2, 3, 4, 5]"
      ]
     },
     "execution_count": 3,
     "metadata": {},
     "output_type": "execute_result"
    }
   ],
   "source": [
    "num=5\n",
    "i = [x for x in range(1,num+1)]\n",
    "i"
   ]
  },
  {
   "cell_type": "code",
   "execution_count": 18,
   "id": "ad11e143",
   "metadata": {},
   "outputs": [
    {
     "data": {
      "text/plain": [
       "[1, 2, 3, 4, 5]"
      ]
     },
     "execution_count": 18,
     "metadata": {},
     "output_type": "execute_result"
    }
   ],
   "source": [
    "high = 5\n",
    "nums=[1,2,3,4,5,6,7,8]\n",
    "m = [x for x in nums if x <=high]\n",
    "m"
   ]
  },
  {
   "cell_type": "code",
   "execution_count": 19,
   "id": "d3b2ca43",
   "metadata": {},
   "outputs": [
    {
     "data": {
      "text/plain": [
       "6"
      ]
     },
     "execution_count": 19,
     "metadata": {},
     "output_type": "execute_result"
    }
   ],
   "source": [
    "1^7"
   ]
  },
  {
   "cell_type": "code",
   "execution_count": 32,
   "id": "5638bfcd",
   "metadata": {},
   "outputs": [
    {
     "name": "stdout",
     "output_type": "stream",
     "text": [
      "[5, 3, 6] \n",
      " [True, True, True]\n",
      "[6, 3] \n",
      " [True, True]\n",
      "[5] \n",
      " [True]\n",
      "[True]\n"
     ]
    },
    {
     "data": {
      "text/plain": [
       "1"
      ]
     },
     "execution_count": 32,
     "metadata": {},
     "output_type": "execute_result"
    }
   ],
   "source": [
    "high=6\n",
    "low=2\n",
    "nums=[1,4,2,7]\n",
    "s = len(nums)\n",
    "n = 0\n",
    "for i in range(s-1):\n",
    "    t = [nums[i]^x for x in nums[i+1:]]\n",
    "    m = [x<=high and x >=low for x in t]\n",
    "    n+=len(m.count(True))\n",
    "    print(t,\"\\n\",m)\n",
    "print(m)\n",
    "m.count(True)"
   ]
  },
  {
   "cell_type": "code",
   "execution_count": 74,
   "id": "d3c4adba",
   "metadata": {},
   "outputs": [
    {
     "name": "stdout",
     "output_type": "stream",
     "text": [
      "[50, 20, 19, 2] 4\n"
     ]
    },
    {
     "data": {
      "text/plain": [
       "-1"
      ]
     },
     "execution_count": 74,
     "metadata": {},
     "output_type": "execute_result"
    }
   ],
   "source": [
    "x = 71\n",
    "nums = [50,20,19,2]\n",
    "nums = [n for n in nums if n <=x]\n",
    "nums.sort(reverse=True)\n",
    "s = len(nums)\n",
    "print(nums,s)\n",
    "\n",
    "def test(x):\n",
    "    n=0\n",
    "    for i in range(s):\n",
    "        n+=1\n",
    "        if x<nums[i]:\n",
    "            n-=1\n",
    "            continue\n",
    "        x = x-nums[i]\n",
    "        if x == 0:\n",
    "            return n-nums.count(0)\n",
    "    return -1\n",
    "\n",
    "def ma(x):\n",
    "    if s == 0:\n",
    "        return -1\n",
    "    for k in range(s):\n",
    "        res = test(x)\n",
    "        if res == -1:\n",
    "            nums[k]=0\n",
    "        else:\n",
    "            return res\n",
    "        return -1\n",
    "\n",
    "ma(x)"
   ]
  },
  {
   "cell_type": "code",
   "execution_count": 86,
   "id": "117f1433",
   "metadata": {},
   "outputs": [
    {
     "name": "stdout",
     "output_type": "stream",
     "text": [
      "!!!\n",
      "[['5' '3' '.' '3' '7' '.' '.' '.' '.']\n",
      " ['6' '.' '.' '1' '9' '5' '.' '.' '.']\n",
      " ['.' '9' '8' '.' '.' '.' '.' '6' '.']\n",
      " ['8' '.' '.' '.' '6' '.' '.' '.' '3']\n",
      " ['4' '.' '.' '8' '.' '3' '.' '.' '1']\n",
      " ['7' '.' '.' '.' '2' '.' '.' '.' '6']\n",
      " ['.' '6' '.' '.' '.' '.' '2' '8' '.']\n",
      " ['.' '.' '.' '4' '1' '9' '.' '.' '5']\n",
      " ['.' '.' '.' '.' '8' '.' '.' '7' '9']] \n",
      "0000000000000000000000000000000000\n"
     ]
    }
   ],
   "source": [
    "from collections import Counter\n",
    "import numpy as np\n",
    "c = [2,3,4,5,6,7,8,9]\n",
    "board = [[\"5\",\"3\",\".\",\"3\",\"7\",\".\",\".\",\".\",\".\"],[\"6\",\".\",\".\",\"1\",\"9\",\"5\",\".\",\".\",\".\"],[\".\",\"9\",\"8\",\".\",\".\",\".\",\".\",\"6\",\".\"],[\"8\",\".\",\".\",\".\",\"6\",\".\",\".\",\".\",\"3\"],[\"4\",\".\",\".\",\"8\",\".\",\"3\",\".\",\".\",\"1\"],[\"7\",\".\",\".\",\".\",\"2\",\".\",\".\",\".\",\"6\"],[\".\",\"6\",\".\",\".\",\".\",\".\",\"2\",\"8\",\".\"],[\".\",\".\",\".\",\"4\",\"1\",\"9\",\".\",\".\",\"5\"],[\".\",\".\",\".\",\".\",\"8\",\".\",\".\",\"7\",\"9\"]]\n",
    "board = np.array(board)\n",
    "for i in board:\n",
    "    a = Counter(i)\n",
    "    del a[\".\"]\n",
    "    b = a.values()\n",
    "    if len(set(c).intersection(set(b)))!=0:\n",
    "        print(\"!!!\")\n",
    "print(board,\"\\n0000000000000000000000000000000000\")\n",
    "\n",
    "board = np.array(np.split(board,3,axis=1)).reshape(9,9)\n",
    "for i in board:\n",
    "    a = Counter(i)\n",
    "    del a[\".\"]\n",
    "    b = a.values()\n",
    "    if len(set(c).intersection(set(b)))!=0:\n",
    "        print(\"!!!\")\n",
    "prin"
   ]
  },
  {
   "cell_type": "code",
   "execution_count": 90,
   "id": "fdf748f9",
   "metadata": {},
   "outputs": [
    {
     "name": "stdout",
     "output_type": "stream",
     "text": [
      "[0, 3]\n"
     ]
    }
   ],
   "source": [
    "matrix = [[0,1,2,0],[3,4,5,2],[1,3,1,5]]\n",
    "t=[]\n",
    "for i in range(len(matrix)):\n",
    "    t += [m for m,n in enumerate(matrix[i]) if n == 0]\n",
    "print(t)"
   ]
  },
  {
   "cell_type": "code",
   "execution_count": 18,
   "id": "8b814dbc",
   "metadata": {},
   "outputs": [
    {
     "name": "stdout",
     "output_type": "stream",
     "text": [
      "4\n"
     ]
    }
   ],
   "source": [
    "class Solution:\n",
    "    def reinitializePermutation(self, n: int) -> int:\n",
    "        i=1\n",
    "        m = 0\n",
    "        if n == 2:\n",
    "            return 1\n",
    "        \n",
    "        while True:\n",
    "            if i%2==0:\n",
    "                i = i/2\n",
    "            else:\n",
    "                i = n/2+(i-1)/2\n",
    "            m+=1\n",
    "            if i==1:\n",
    "                return m\n"
   ]
  },
  {
   "cell_type": "code",
   "execution_count": 3,
   "id": "64044247",
   "metadata": {},
   "outputs": [
    {
     "data": {
      "text/plain": [
       "0"
      ]
     },
     "execution_count": 3,
     "metadata": {},
     "output_type": "execute_result"
    }
   ],
   "source": [
    "from collections import Counter\n",
    "s = \"leetcode\"\n",
    "a =Counter(s)\n",
    "b=list(a.keys())[list(a.values()).index(1)]\n",
    "b\n",
    "s.index(b)"
   ]
  },
  {
   "cell_type": "code",
   "execution_count": 5,
   "id": "b3e0186d",
   "metadata": {},
   "outputs": [
    {
     "ename": "TypeError",
     "evalue": "cannot convert dictionary update sequence element #0 to a sequence",
     "output_type": "error",
     "traceback": [
      "\u001b[0;31m---------------------------------------------------------------------------\u001b[0m",
      "\u001b[0;31mTypeError\u001b[0m                                 Traceback (most recent call last)",
      "\u001b[0;32m/tmp/ipykernel_146571/2095908304.py\u001b[0m in \u001b[0;36m<module>\u001b[0;34m\u001b[0m\n\u001b[1;32m      1\u001b[0m \u001b[0ma\u001b[0m \u001b[0;34m=\u001b[0m \u001b[0;34m[\u001b[0m\u001b[0;36m1\u001b[0m\u001b[0;34m,\u001b[0m\u001b[0;36m2\u001b[0m\u001b[0;34m,\u001b[0m\u001b[0;36m3\u001b[0m\u001b[0;34m,\u001b[0m\u001b[0;36m4\u001b[0m\u001b[0;34m,\u001b[0m\u001b[0;36m5\u001b[0m\u001b[0;34m,\u001b[0m\u001b[0;36m6\u001b[0m\u001b[0;34m]\u001b[0m\u001b[0;34m\u001b[0m\u001b[0;34m\u001b[0m\u001b[0m\n\u001b[0;32m----> 2\u001b[0;31m \u001b[0mb\u001b[0m\u001b[0;34m=\u001b[0m \u001b[0mdict\u001b[0m\u001b[0;34m(\u001b[0m\u001b[0ma\u001b[0m\u001b[0;34m)\u001b[0m\u001b[0;34m\u001b[0m\u001b[0;34m\u001b[0m\u001b[0m\n\u001b[0m\u001b[1;32m      3\u001b[0m \u001b[0mb\u001b[0m\u001b[0;34m\u001b[0m\u001b[0;34m\u001b[0m\u001b[0m\n",
      "\u001b[0;31mTypeError\u001b[0m: cannot convert dictionary update sequence element #0 to a sequence"
     ]
    }
   ],
   "source": [
    "a = [1,2,3,4,5,6]\n",
    "b= dict(a)\n",
    "b"
   ]
  },
  {
   "cell_type": "code",
   "execution_count": 6,
   "id": "8ad2fb8b",
   "metadata": {},
   "outputs": [
    {
     "name": "stdout",
     "output_type": "stream",
     "text": [
      "6\n"
     ]
    }
   ],
   "source": [
    "from collections import Counter\n",
    "s = \"anagram\"\n",
    "t = \"nagaram\"\n",
    "if Counter(s) == Counter(t):\n",
    "    print(6)"
   ]
  },
  {
   "cell_type": "code",
   "execution_count": 11,
   "id": "d0c72327",
   "metadata": {},
   "outputs": [
    {
     "name": "stdout",
     "output_type": "stream",
     "text": [
      "bobistwoyearsold\n"
     ]
    }
   ],
   "source": [
    "class Solution:\n",
    "    def evaluate(self,s, knowledge):\n",
    "        dic={}\n",
    "        temp = []\n",
    "        s=list(s)\n",
    "        res = []\n",
    "        read = False\n",
    "        for i,j in knowledge:\n",
    "            dic[i]=j\n",
    "\n",
    "        for i in range(len(s)):\n",
    "            \n",
    "            if s[i] == '(':\n",
    "                read = True\n",
    "                continue\n",
    "\n",
    "            elif s[i] == ')':\n",
    "                read = False\n",
    "                res.append(dic[\"\".join(temp)])\n",
    "                temp=[]\n",
    "                continue\n",
    "            elif s[i] not in '()' and read == False:\n",
    "                res.append(s[i])\n",
    "            elif s[i] not in '()' and read == True:\n",
    "                temp.append(s[i])\n",
    "        return \"\".join(res)\n",
    "                \n",
    "a = Solution()\n",
    "s = \"(name)is(age)yearsold\"\n",
    "knowledge = [[\"name\",\"bob\"],[\"age\",\"two\"]]\n",
    "print(a.evaluate(s,knowledge))\n"
   ]
  },
  {
   "cell_type": "code",
   "execution_count": 2,
   "id": "ba9b6b5a",
   "metadata": {},
   "outputs": [
    {
     "ename": "NameError",
     "evalue": "name 'reverse' is not defined",
     "output_type": "error",
     "traceback": [
      "\u001b[0;31m---------------------------------------------------------------------------\u001b[0m",
      "\u001b[0;31mNameError\u001b[0m                                 Traceback (most recent call last)",
      "\u001b[0;32m/tmp/ipykernel_135374/59710572.py\u001b[0m in \u001b[0;36m<module>\u001b[0;34m\u001b[0m\n\u001b[1;32m      1\u001b[0m \u001b[0ma\u001b[0m \u001b[0;34m=\u001b[0m \u001b[0;36m123456\u001b[0m\u001b[0;34m\u001b[0m\u001b[0;34m\u001b[0m\u001b[0m\n\u001b[1;32m      2\u001b[0m \u001b[0ma\u001b[0m \u001b[0;34m=\u001b[0m \u001b[0mlist\u001b[0m\u001b[0;34m(\u001b[0m\u001b[0mstr\u001b[0m\u001b[0;34m(\u001b[0m\u001b[0ma\u001b[0m\u001b[0;34m)\u001b[0m\u001b[0;34m)\u001b[0m\u001b[0;34m\u001b[0m\u001b[0;34m\u001b[0m\u001b[0m\n\u001b[0;32m----> 3\u001b[0;31m \u001b[0mreverse\u001b[0m\u001b[0;34m(\u001b[0m\u001b[0ma\u001b[0m\u001b[0;34m)\u001b[0m\u001b[0;34m\u001b[0m\u001b[0;34m\u001b[0m\u001b[0m\n\u001b[0m",
      "\u001b[0;31mNameError\u001b[0m: name 'reverse' is not defined"
     ]
    }
   ],
   "source": [
    "\n",
    "a = 123456\n",
    "a = list(str(a))\n",
    "reverse(a)\n"
   ]
  },
  {
   "cell_type": "code",
   "execution_count": 5,
   "id": "da536e75",
   "metadata": {},
   "outputs": [
    {
     "data": {
      "text/plain": [
       "['', '364', '26874', '236984', '25862035896', '2']"
      ]
     },
     "execution_count": 5,
     "metadata": {},
     "output_type": "execute_result"
    }
   ],
   "source": [
    "a = '1364126874123698412586203589612'\n",
    "a.split('1')"
   ]
  },
  {
   "cell_type": "code",
   "execution_count": 9,
   "id": "5e745f01",
   "metadata": {},
   "outputs": [
    {
     "data": {
      "text/plain": [
       "dict_items([('z', 1), ('x', 2), ('c', 3)])"
      ]
     },
     "execution_count": 9,
     "metadata": {},
     "output_type": "execute_result"
    }
   ],
   "source": [
    "a = {'z':1,'x':2,'c':3}\n",
    "a.items()\n"
   ]
  },
  {
   "cell_type": "code",
   "execution_count": 10,
   "id": "752491b7",
   "metadata": {},
   "outputs": [
    {
     "name": "stdout",
     "output_type": "stream",
     "text": [
      "s\n",
      "\n"
     ]
    }
   ],
   "source": [
    "print('s\\n')"
   ]
  },
  {
   "cell_type": "code",
   "execution_count": 3,
   "id": "03e9bcf5",
   "metadata": {
    "ExecuteTime": {
     "end_time": "2023-02-18T15:30:23.757544Z",
     "start_time": "2023-02-18T15:30:23.380142Z"
    }
   },
   "outputs": [
    {
     "ename": "ImportError",
     "evalue": "html5lib not found, please install it",
     "output_type": "error",
     "traceback": [
      "\u001b[1;31m---------------------------------------------------------------------------\u001b[0m",
      "\u001b[1;31mImportError\u001b[0m                               Traceback (most recent call last)",
      "\u001b[1;32m~\\AppData\\Local\\Temp\\ipykernel_1392\\4039247292.py\u001b[0m in \u001b[0;36m<module>\u001b[1;34m\u001b[0m\n\u001b[0;32m      5\u001b[0m \u001b[1;31m# 获取百度过去30天的股票数据\u001b[0m\u001b[1;33m\u001b[0m\u001b[1;33m\u001b[0m\u001b[0m\n\u001b[0;32m      6\u001b[0m \u001b[0murl\u001b[0m \u001b[1;33m=\u001b[0m \u001b[1;34m'https://www.msn.cn/zh-cn/money/watchlist?tab=Related&id=a1ohm7&ocid=ansMSNMoney11&duration=1D&relatedQuoteId=a1ohm7&relatedSource=MlAl&src=b_secdans'\u001b[0m\u001b[1;33m\u001b[0m\u001b[1;33m\u001b[0m\u001b[0m\n\u001b[1;32m----> 7\u001b[1;33m \u001b[0mdfs\u001b[0m \u001b[1;33m=\u001b[0m \u001b[0mpd\u001b[0m\u001b[1;33m.\u001b[0m\u001b[0mread_html\u001b[0m\u001b[1;33m(\u001b[0m\u001b[0murl\u001b[0m\u001b[1;33m)\u001b[0m\u001b[1;33m\u001b[0m\u001b[1;33m\u001b[0m\u001b[0m\n\u001b[0m\u001b[0;32m      8\u001b[0m \u001b[0mdf\u001b[0m \u001b[1;33m=\u001b[0m \u001b[0mdfs\u001b[0m\u001b[1;33m[\u001b[0m\u001b[1;36m0\u001b[0m\u001b[1;33m]\u001b[0m\u001b[1;33m.\u001b[0m\u001b[0miloc\u001b[0m\u001b[1;33m[\u001b[0m\u001b[1;33m:\u001b[0m\u001b[1;36m30\u001b[0m\u001b[1;33m]\u001b[0m\u001b[1;33m\u001b[0m\u001b[1;33m\u001b[0m\u001b[0m\n\u001b[0;32m      9\u001b[0m \u001b[1;33m\u001b[0m\u001b[0m\n",
      "\u001b[1;32mF:\\anaconda\\lib\\site-packages\\pandas\\util\\_decorators.py\u001b[0m in \u001b[0;36mwrapper\u001b[1;34m(*args, **kwargs)\u001b[0m\n\u001b[0;32m    309\u001b[0m                     \u001b[0mstacklevel\u001b[0m\u001b[1;33m=\u001b[0m\u001b[0mstacklevel\u001b[0m\u001b[1;33m,\u001b[0m\u001b[1;33m\u001b[0m\u001b[1;33m\u001b[0m\u001b[0m\n\u001b[0;32m    310\u001b[0m                 )\n\u001b[1;32m--> 311\u001b[1;33m             \u001b[1;32mreturn\u001b[0m \u001b[0mfunc\u001b[0m\u001b[1;33m(\u001b[0m\u001b[1;33m*\u001b[0m\u001b[0margs\u001b[0m\u001b[1;33m,\u001b[0m \u001b[1;33m**\u001b[0m\u001b[0mkwargs\u001b[0m\u001b[1;33m)\u001b[0m\u001b[1;33m\u001b[0m\u001b[1;33m\u001b[0m\u001b[0m\n\u001b[0m\u001b[0;32m    312\u001b[0m \u001b[1;33m\u001b[0m\u001b[0m\n\u001b[0;32m    313\u001b[0m         \u001b[1;32mreturn\u001b[0m \u001b[0mwrapper\u001b[0m\u001b[1;33m\u001b[0m\u001b[1;33m\u001b[0m\u001b[0m\n",
      "\u001b[1;32mF:\\anaconda\\lib\\site-packages\\pandas\\io\\html.py\u001b[0m in \u001b[0;36mread_html\u001b[1;34m(io, match, flavor, header, index_col, skiprows, attrs, parse_dates, thousands, encoding, decimal, converters, na_values, keep_default_na, displayed_only)\u001b[0m\n\u001b[0;32m   1111\u001b[0m     \u001b[0mio\u001b[0m \u001b[1;33m=\u001b[0m \u001b[0mstringify_path\u001b[0m\u001b[1;33m(\u001b[0m\u001b[0mio\u001b[0m\u001b[1;33m)\u001b[0m\u001b[1;33m\u001b[0m\u001b[1;33m\u001b[0m\u001b[0m\n\u001b[0;32m   1112\u001b[0m \u001b[1;33m\u001b[0m\u001b[0m\n\u001b[1;32m-> 1113\u001b[1;33m     return _parse(\n\u001b[0m\u001b[0;32m   1114\u001b[0m         \u001b[0mflavor\u001b[0m\u001b[1;33m=\u001b[0m\u001b[0mflavor\u001b[0m\u001b[1;33m,\u001b[0m\u001b[1;33m\u001b[0m\u001b[1;33m\u001b[0m\u001b[0m\n\u001b[0;32m   1115\u001b[0m         \u001b[0mio\u001b[0m\u001b[1;33m=\u001b[0m\u001b[0mio\u001b[0m\u001b[1;33m,\u001b[0m\u001b[1;33m\u001b[0m\u001b[1;33m\u001b[0m\u001b[0m\n",
      "\u001b[1;32mF:\\anaconda\\lib\\site-packages\\pandas\\io\\html.py\u001b[0m in \u001b[0;36m_parse\u001b[1;34m(flavor, io, match, attrs, encoding, displayed_only, **kwargs)\u001b[0m\n\u001b[0;32m    913\u001b[0m     \u001b[0mretained\u001b[0m \u001b[1;33m=\u001b[0m \u001b[1;32mNone\u001b[0m\u001b[1;33m\u001b[0m\u001b[1;33m\u001b[0m\u001b[0m\n\u001b[0;32m    914\u001b[0m     \u001b[1;32mfor\u001b[0m \u001b[0mflav\u001b[0m \u001b[1;32min\u001b[0m \u001b[0mflavor\u001b[0m\u001b[1;33m:\u001b[0m\u001b[1;33m\u001b[0m\u001b[1;33m\u001b[0m\u001b[0m\n\u001b[1;32m--> 915\u001b[1;33m         \u001b[0mparser\u001b[0m \u001b[1;33m=\u001b[0m \u001b[0m_parser_dispatch\u001b[0m\u001b[1;33m(\u001b[0m\u001b[0mflav\u001b[0m\u001b[1;33m)\u001b[0m\u001b[1;33m\u001b[0m\u001b[1;33m\u001b[0m\u001b[0m\n\u001b[0m\u001b[0;32m    916\u001b[0m         \u001b[0mp\u001b[0m \u001b[1;33m=\u001b[0m \u001b[0mparser\u001b[0m\u001b[1;33m(\u001b[0m\u001b[0mio\u001b[0m\u001b[1;33m,\u001b[0m \u001b[0mcompiled_match\u001b[0m\u001b[1;33m,\u001b[0m \u001b[0mattrs\u001b[0m\u001b[1;33m,\u001b[0m \u001b[0mencoding\u001b[0m\u001b[1;33m,\u001b[0m \u001b[0mdisplayed_only\u001b[0m\u001b[1;33m)\u001b[0m\u001b[1;33m\u001b[0m\u001b[1;33m\u001b[0m\u001b[0m\n\u001b[0;32m    917\u001b[0m \u001b[1;33m\u001b[0m\u001b[0m\n",
      "\u001b[1;32mF:\\anaconda\\lib\\site-packages\\pandas\\io\\html.py\u001b[0m in \u001b[0;36m_parser_dispatch\u001b[1;34m(flavor)\u001b[0m\n\u001b[0;32m    862\u001b[0m     \u001b[1;32mif\u001b[0m \u001b[0mflavor\u001b[0m \u001b[1;32min\u001b[0m \u001b[1;33m(\u001b[0m\u001b[1;34m\"bs4\"\u001b[0m\u001b[1;33m,\u001b[0m \u001b[1;34m\"html5lib\"\u001b[0m\u001b[1;33m)\u001b[0m\u001b[1;33m:\u001b[0m\u001b[1;33m\u001b[0m\u001b[1;33m\u001b[0m\u001b[0m\n\u001b[0;32m    863\u001b[0m         \u001b[1;32mif\u001b[0m \u001b[1;32mnot\u001b[0m \u001b[0m_HAS_HTML5LIB\u001b[0m\u001b[1;33m:\u001b[0m\u001b[1;33m\u001b[0m\u001b[1;33m\u001b[0m\u001b[0m\n\u001b[1;32m--> 864\u001b[1;33m             \u001b[1;32mraise\u001b[0m \u001b[0mImportError\u001b[0m\u001b[1;33m(\u001b[0m\u001b[1;34m\"html5lib not found, please install it\"\u001b[0m\u001b[1;33m)\u001b[0m\u001b[1;33m\u001b[0m\u001b[1;33m\u001b[0m\u001b[0m\n\u001b[0m\u001b[0;32m    865\u001b[0m         \u001b[1;32mif\u001b[0m \u001b[1;32mnot\u001b[0m \u001b[0m_HAS_BS4\u001b[0m\u001b[1;33m:\u001b[0m\u001b[1;33m\u001b[0m\u001b[1;33m\u001b[0m\u001b[0m\n\u001b[0;32m    866\u001b[0m             \u001b[1;32mraise\u001b[0m \u001b[0mImportError\u001b[0m\u001b[1;33m(\u001b[0m\u001b[1;34m\"BeautifulSoup4 (bs4) not found, please install it\"\u001b[0m\u001b[1;33m)\u001b[0m\u001b[1;33m\u001b[0m\u001b[1;33m\u001b[0m\u001b[0m\n",
      "\u001b[1;31mImportError\u001b[0m: html5lib not found, please install it"
     ]
    }
   ],
   "source": [
    "import pandas as pd\n",
    "import matplotlib.pyplot as plt\n",
    "from mpl_toolkits.mplot3d import Axes3D\n",
    "\n",
    "# 获取百度过去30天的股票数据\n",
    "url = 'https://www.msn.cn/zh-cn/money/watchlist?tab=Related&id=a1ohm7&ocid=ansMSNMoney11&duration=1D&relatedQuoteId=a1ohm7&relatedSource=MlAl&src=b_secdans'\n",
    "dfs = pd.read_html(url)\n",
    "df = dfs[0].iloc[:30]\n",
    "\n",
    "# 绘制3D柱状图\n",
    "fig = plt.figure()\n",
    "ax = fig.add_subplot(111, projection='3d')\n",
    "xpos = range(30)\n",
    "ypos = [0] * 30\n",
    "zpos = [0] * 30\n",
    "dx = [0.5] * 30\n",
    "dy = [0.5] * 30\n",
    "dz = df['Close'] - df['Open']\n",
    "colors = ['r' if d < 0 else 'g' for d in dz]\n",
    "ax.bar3d(xpos, ypos, zpos, dx, dy, dz, color=colors)\n",
    "\n",
    "# 设置图表标题和坐标轴标签\n",
    "ax.set_title('Baidu Stock Prices (Past 30 Days)')\n",
    "ax.set_xlabel('Days')\n",
    "ax.set_ylabel('Price Range')\n",
    "ax.set_zlabel('Price Change')\n",
    "\n",
    "# 显示图表\n",
    "plt.show()\n"
   ]
  },
  {
   "cell_type": "code",
   "execution_count": 3,
   "id": "4ba0bf46",
   "metadata": {
    "ExecuteTime": {
     "end_time": "2023-07-23T09:03:45.954752Z",
     "start_time": "2023-07-23T09:03:45.938527Z"
    }
   },
   "outputs": [
    {
     "data": {
      "text/plain": [
       "[1, 2]"
      ]
     },
     "execution_count": 3,
     "metadata": {},
     "output_type": "execute_result"
    }
   ],
   "source": [
    "list(set([1,1,2]))"
   ]
  },
  {
   "cell_type": "code",
   "execution_count": 5,
   "id": "d86c8ccb",
   "metadata": {
    "ExecuteTime": {
     "end_time": "2023-07-23T09:24:06.964878Z",
     "start_time": "2023-07-23T09:24:06.954870Z"
    }
   },
   "outputs": [
    {
     "data": {
      "text/plain": [
       "[0, 1, 2, 3, 4, 0, 2, 1, 3, 1]"
      ]
     },
     "execution_count": 5,
     "metadata": {},
     "output_type": "execute_result"
    }
   ],
   "source": [
    "nums=[0,0,1,1,1,2,2,3,3,4]\n",
    "mi = nums[0]\n",
    "count = 0\n",
    "for i in range(1,len(nums)):\n",
    "    if nums[i]>mi:\n",
    "        mi=nums[i]\n",
    "        count+=1\n",
    "        nums[count],nums[i]=nums[i],nums[count]\n",
    "nums"
   ]
  },
  {
   "cell_type": "code",
   "execution_count": null,
   "id": "97b4265e",
   "metadata": {},
   "outputs": [],
   "source": []
  }
 ],
 "metadata": {
  "kernelspec": {
   "display_name": "Python 3 (ipykernel)",
   "language": "python",
   "name": "python3"
  },
  "language_info": {
   "codemirror_mode": {
    "name": "ipython",
    "version": 3
   },
   "file_extension": ".py",
   "mimetype": "text/x-python",
   "name": "python",
   "nbconvert_exporter": "python",
   "pygments_lexer": "ipython3",
   "version": "3.9.15"
  }
 },
 "nbformat": 4,
 "nbformat_minor": 5
}
