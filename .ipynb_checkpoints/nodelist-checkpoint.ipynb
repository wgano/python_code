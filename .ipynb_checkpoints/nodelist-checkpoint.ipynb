{
 "cells": [
  {
   "cell_type": "code",
   "execution_count": null,
   "id": "0f26729e",
   "metadata": {},
   "outputs": [],
   "source": [
    "# 快慢指针找到链表中点\n",
    "fast = slow = head\n",
    "while fast.next and fast.next.next:\n",
    "    slow = slow.next\n",
    "    fast = fast.next.next\n",
    "    \n",
    "# 反转右半部分链表\n",
    "pre = None\n",
    "while cur:\n",
    "    t = cur.next\n",
    "    cur.next = pre\n",
    "    pre, cur = cur, t\n",
    "cur = head\n"
   ]
  }
 ],
 "metadata": {
  "kernelspec": {
   "display_name": "Python 3 (ipykernel)",
   "language": "python",
   "name": "python3"
  },
  "language_info": {
   "codemirror_mode": {
    "name": "ipython",
    "version": 3
   },
   "file_extension": ".py",
   "mimetype": "text/x-python",
   "name": "python",
   "nbconvert_exporter": "python",
   "pygments_lexer": "ipython3",
   "version": "3.9.15"
  }
 },
 "nbformat": 4,
 "nbformat_minor": 5
}
