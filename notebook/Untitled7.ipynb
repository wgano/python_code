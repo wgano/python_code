{
 "cells": [
  {
   "cell_type": "code",
   "execution_count": 32,
   "id": "0537e5f6",
   "metadata": {},
   "outputs": [
    {
     "name": "stdout",
     "output_type": "stream",
     "text": [
      "输入:30\n",
      "274410818470142134209703780940313\n",
      "0:00:01\n"
     ]
    }
   ],
   "source": [
    "import time\n",
    "b = time.time()\n",
    "\n",
    "max = input(\"输入:\")\n",
    "sum = 0\n",
    "for i in range(1,int(max)+1):\n",
    "    sub = 1\n",
    "    for j in range(1,i+1):\n",
    "        sub *= j\n",
    "        \n",
    "        \n",
    "    sum += sub\n",
    "print(sum)\n",
    "e = time.time()\n",
    "m, s = divmod(e-b, 60)\n",
    "h, m = divmod(m, 60)\n",
    "print(\"%d:%02d:%02d\" % (h, m, s))\n"
   ]
  },
  {
   "cell_type": "code",
   "execution_count": null,
   "id": "eddfd7c8",
   "metadata": {},
   "outputs": [],
   "source": []
  }
 ],
 "metadata": {
  "kernelspec": {
   "display_name": "Python 3 (ipykernel)",
   "language": "python",
   "name": "python3"
  },
  "language_info": {
   "codemirror_mode": {
    "name": "ipython",
    "version": 3
   },
   "file_extension": ".py",
   "mimetype": "text/x-python",
   "name": "python",
   "nbconvert_exporter": "python",
   "pygments_lexer": "ipython3",
   "version": "3.9.13"
  }
 },
 "nbformat": 4,
 "nbformat_minor": 5
}
