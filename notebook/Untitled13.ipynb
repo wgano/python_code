{
 "cells": [
  {
   "cell_type": "code",
   "execution_count": 10,
   "id": "7830e62a",
   "metadata": {},
   "outputs": [],
   "source": [
    "class Solution:\n",
    "    def isValid(self, s: str) -> bool:\n",
    "        n1 = s.count(\"(\")\n",
    "        n2 = s.count(\")\")\n",
    "        n3 = s.count(\"[\")\n",
    "        n4 = s.count(\"]\")\n",
    "        n5 = s.count(\"{\")\n",
    "        n6 = s.count(\"}\")\n",
    "        o = False\n",
    "        x = dict(enumerate(list(s)))\n",
    "        n_1 = [m1 for m1,n11 in x.items() if n11 == \"(\"]\n",
    "        n_2 = [m2 for m2,n22 in x.items() if n22 == \")\"]\n",
    "        n_3 = [m3 for m3,n33 in x.items() if n33 == \"[\"]\n",
    "        n_4 = [m4 for m4,n44 in x.items() if n44 == \"]\"]\n",
    "        n_5 = [m5 for m5,n55 in x.items() if n55 == \"{\"]\n",
    "        n_6 = [m6 for m6,n66 in x.items() if n66 == \"}\"]\n",
    "\n",
    "        y1,y2,y3 = False,False,False\n",
    "\n",
    "\n",
    "\n",
    "\n",
    "        if n1 == n2 and n3 == n4 and n5 == n6:\n",
    "            for i1 in range(n1):\n",
    "                if (n_2[i1]-n_1[i1]+1) % 2 == 0:\n",
    "                    y1 = True\n",
    "            for i2 in range(n3):\n",
    "                if (n_4[i2]-n_3[i2]+1) % 2 == 0:\n",
    "                    y2 = True\n",
    "            for i3 in range(n5):\n",
    "                if (n_6[i3]-n_5[i3]+1) % 2 == 0:\n",
    "                    y3 = True\n",
    "\n",
    "            if bool(n1)==y1 and bool(n3)==y2 and bool(n5)==y3:\n",
    "            \n",
    "                o = True\n",
    "            \n",
    "            print(n1,n2,n3,n_1,n_2,n_3,y1,y2,y3,o,bool(n2),bool(n3))\n",
    "            if sum(n_1) <= sum(n_2) and sum(n_3) <= sum(n_4) and sum(n_5) <= sum(n_6):\n",
    "                if o == True:\n",
    "                    return True\n",
    "                else:\n",
    "                    return False\n",
    "            else:\n",
    "                return False\n",
    "        else:\n",
    "            return False\n",
    "\n",
    "\n"
   ]
  },
  {
   "cell_type": "code",
   "execution_count": 11,
   "id": "c68d4571",
   "metadata": {},
   "outputs": [
    {
     "name": "stdout",
     "output_type": "stream",
     "text": [
      "1 1 0 [0] [1] [] True False False True True False\n"
     ]
    },
    {
     "data": {
      "text/plain": [
       "True"
      ]
     },
     "execution_count": 11,
     "metadata": {},
     "output_type": "execute_result"
    }
   ],
   "source": [
    "h = Solution()\n",
    "h.isValid(\"()\")"
   ]
  },
  {
   "cell_type": "code",
   "execution_count": 12,
   "id": "22d7d3df",
   "metadata": {},
   "outputs": [
    {
     "data": {
      "text/plain": [
       "0"
      ]
     },
     "execution_count": 12,
     "metadata": {},
     "output_type": "execute_result"
    }
   ],
   "source": [
    "sum([])"
   ]
  },
  {
   "cell_type": "code",
   "execution_count": null,
   "id": "6d75d676",
   "metadata": {},
   "outputs": [],
   "source": []
  }
 ],
 "metadata": {
  "kernelspec": {
   "display_name": "Python 3 (ipykernel)",
   "language": "python",
   "name": "python3"
  },
  "language_info": {
   "codemirror_mode": {
    "name": "ipython",
    "version": 3
   },
   "file_extension": ".py",
   "mimetype": "text/x-python",
   "name": "python",
   "nbconvert_exporter": "python",
   "pygments_lexer": "ipython3",
   "version": "3.9.13"
  }
 },
 "nbformat": 4,
 "nbformat_minor": 5
}
