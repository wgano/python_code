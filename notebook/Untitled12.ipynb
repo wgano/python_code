{
 "cells": [
  {
   "cell_type": "code",
   "execution_count": 15,
   "id": "aad73729",
   "metadata": {},
   "outputs": [
    {
     "name": "stdout",
     "output_type": "stream",
     "text": [
      "6 4 True ['f', 'l', 'o', 'w', 'e', 'r'] 4\n",
      "flower\n"
     ]
    }
   ],
   "source": [
    "class Solution:\n",
    "    def longestCommonPrefix(self, strs: List[str]) -> str:\n",
    "        k = 0\n",
    "        n = []\n",
    "        min = len(strs[0])\n",
    "        l = len(strs)\n",
    "        have = False\n",
    "        for i in range(l):\n",
    "            \n",
    "            min_t = len(strs[i])\n",
    "            if min_t < min:\n",
    "                min = min_t\n",
    "        \n",
    "        for j in range(min):\n",
    "            n.append(list(strs[0])[j])\n",
    "            t = 0\n",
    "\n",
    "\n",
    "\n",
    "\n",
    "            for m in range(l):\n",
    "                if \"\".join(n) == strs[m][:j+1]:\n",
    "                    t += 1\n",
    "            if t == l:\n",
    "                have = True\n",
    "                if j+1 == min:\n",
    "                    k = 1\n",
    "                else:\n",
    "                    continue\n",
    "            else:  \n",
    "                break\n",
    "        \n",
    "        \n",
    "\n",
    "        if len(n) == 1 or k == 1:\n",
    "            if have:\n",
    "                return \"\".join(n)\n",
    "            else:\n",
    "                return \"\"\n",
    "        else:\n",
    "            if have:\n",
    "                return \"\".join(n[:-1])\n",
    "            else:\n",
    "                return \"\""
   ]
  },
  {
   "cell_type": "code",
   "execution_count": null,
   "id": "194845c4",
   "metadata": {},
   "outputs": [],
   "source": []
  },
  {
   "cell_type": "code",
   "execution_count": null,
   "id": "1a855f8f",
   "metadata": {},
   "outputs": [],
   "source": []
  }
 ],
 "metadata": {
  "kernelspec": {
   "display_name": "Python 3 (ipykernel)",
   "language": "python",
   "name": "python3"
  },
  "language_info": {
   "codemirror_mode": {
    "name": "ipython",
    "version": 3
   },
   "file_extension": ".py",
   "mimetype": "text/x-python",
   "name": "python",
   "nbconvert_exporter": "python",
   "pygments_lexer": "ipython3",
   "version": "3.9.13"
  }
 },
 "nbformat": 4,
 "nbformat_minor": 5
}
