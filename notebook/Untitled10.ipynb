{
 "cells": [
  {
   "cell_type": "code",
   "execution_count": 1,
   "id": "bf57a275",
   "metadata": {},
   "outputs": [
    {
     "data": {
      "text/plain": [
       "[0, 1]"
      ]
     },
     "execution_count": 1,
     "metadata": {},
     "output_type": "execute_result"
    }
   ],
   "source": [
    "class eve:\n",
    "    def __init__(self,nums,target):\n",
    "        self.nums = nums[:]\n",
    "        self.target = target\n",
    "    def func(self):\n",
    "        for i,j in enumerate(self.nums):\n",
    "            if self.nums[i]+self.nums[i+1] == self.target:\n",
    "                return [i,i+1]\n",
    "\n",
    "\n",
    "\n",
    "\n",
    "num = [2,7,11,15]\n",
    "tar = 9\n",
    "\n",
    "n = eve(num,tar)\n",
    "n.func()"
   ]
  },
  {
   "cell_type": "code",
   "execution_count": 8,
   "id": "06ced0c8",
   "metadata": {},
   "outputs": [],
   "source": [
    "class Solution:\n",
    "    def __init__(self,nums,target):\n",
    "        self.nums = nums\n",
    "        self.target = target\n",
    "    def func(self):\n",
    "        for i in self.nums:\n",
    "            for m in self.nums:\n",
    "                if self.nums.index(i) < self.nums.index(m):\n",
    "                    if i+m == self.target:\n",
    "                        return [self.nums.index(i),self.nums.index(m)]\n",
    "\n",
    "num = [3,3]\n",
    "tar = 6\n",
    "\n",
    "n = Solution(num,tar)\n",
    "n.func()\n"
   ]
  },
  {
   "cell_type": "code",
   "execution_count": null,
   "id": "28e3fee6",
   "metadata": {},
   "outputs": [],
   "source": []
  }
 ],
 "metadata": {
  "kernelspec": {
   "display_name": "Python 3 (ipykernel)",
   "language": "python",
   "name": "python3"
  },
  "language_info": {
   "codemirror_mode": {
    "name": "ipython",
    "version": 3
   },
   "file_extension": ".py",
   "mimetype": "text/x-python",
   "name": "python",
   "nbconvert_exporter": "python",
   "pygments_lexer": "ipython3",
   "version": "3.9.13"
  }
 },
 "nbformat": 4,
 "nbformat_minor": 5
}
