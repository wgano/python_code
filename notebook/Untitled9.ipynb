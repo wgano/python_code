{
 "cells": [
  {
   "cell_type": "code",
   "execution_count": 7,
   "id": "166613f6",
   "metadata": {},
   "outputs": [
    {
     "data": {
      "text/plain": [
       "'没有这个键你妈的'"
      ]
     },
     "execution_count": 7,
     "metadata": {},
     "output_type": "execute_result"
    }
   ],
   "source": [
    "a = {'a':666, 'b':777}\n",
    "a.get('c',\"没有这个键,你妈的\")"
   ]
  },
  {
   "cell_type": "code",
   "execution_count": null,
   "id": "51bea2fe",
   "metadata": {},
   "outputs": [],
   "source": []
  }
 ],
 "metadata": {
  "kernelspec": {
   "display_name": "Python 3 (ipykernel)",
   "language": "python",
   "name": "python3"
  },
  "language_info": {
   "codemirror_mode": {
    "name": "ipython",
    "version": 3
   },
   "file_extension": ".py",
   "mimetype": "text/x-python",
   "name": "python",
   "nbconvert_exporter": "python",
   "pygments_lexer": "ipython3",
   "version": "3.9.13"
  }
 },
 "nbformat": 4,
 "nbformat_minor": 5
}
