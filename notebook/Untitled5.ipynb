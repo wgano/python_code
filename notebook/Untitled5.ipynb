{
 "cells": [
  {
   "cell_type": "code",
   "execution_count": 8,
   "id": "715ed540",
   "metadata": {
    "scrolled": true
   },
   "outputs": [
    {
     "name": "stdout",
     "output_type": "stream",
     "text": [
      "输入数字6666666666666666666666\n",
      "要数的数字66\n",
      "11\n"
     ]
    }
   ],
   "source": [
    "a = input(\"输入数字\")\n",
    "b = input(\"要数的数字\")\n",
    "print(a.count(b))\n"
   ]
  },
  {
   "cell_type": "code",
   "execution_count": 12,
   "id": "b1a2224b",
   "metadata": {},
   "outputs": [
    {
     "data": {
      "text/plain": [
       "type"
      ]
     },
     "execution_count": 12,
     "metadata": {},
     "output_type": "execute_result"
    }
   ],
   "source": [
    "type(type(a))"
   ]
  },
  {
   "cell_type": "code",
   "execution_count": 15,
   "id": "bb294e7e",
   "metadata": {},
   "outputs": [
    {
     "data": {
      "text/plain": [
       "int"
      ]
     },
     "execution_count": 15,
     "metadata": {},
     "output_type": "execute_result"
    }
   ],
   "source": [
    "class akind:\n",
    "    def __init__(self,index):\n",
    "        self.n = index\n",
    "        \n",
    "a = akind(6)\n",
    "type(a.n)"
   ]
  },
  {
   "cell_type": "code",
   "execution_count": null,
   "id": "0c6ecd2a",
   "metadata": {},
   "outputs": [],
   "source": []
  }
 ],
 "metadata": {
  "kernelspec": {
   "display_name": "Python 3 (ipykernel)",
   "language": "python",
   "name": "python3"
  },
  "language_info": {
   "codemirror_mode": {
    "name": "ipython",
    "version": 3
   },
   "file_extension": ".py",
   "mimetype": "text/x-python",
   "name": "python",
   "nbconvert_exporter": "python",
   "pygments_lexer": "ipython3",
   "version": "3.9.13"
  }
 },
 "nbformat": 4,
 "nbformat_minor": 5
}
