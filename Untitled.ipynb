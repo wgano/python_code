{
 "cells": [
  {
   "cell_type": "code",
   "execution_count": 1,
   "id": "81c210cd",
   "metadata": {
    "ExecuteTime": {
     "end_time": "2023-09-20T16:18:26.809689Z",
     "start_time": "2023-09-20T16:18:20.042711Z"
    }
   },
   "outputs": [
    {
     "name": "stdout",
     "output_type": "stream",
     "text": [
      "您: 你好\n"
     ]
    },
    {
     "ename": "NameError",
     "evalue": "name 'response' is not defined",
     "output_type": "error",
     "traceback": [
      "\u001b[1;31m---------------------------------------------------------------------------\u001b[0m",
      "\u001b[1;31mNameError\u001b[0m                                 Traceback (most recent call last)",
      "\u001b[1;32m~\\AppData\\Local\\Temp\\ipykernel_17632\\3055943220.py\u001b[0m in \u001b[0;36m<module>\u001b[1;34m\u001b[0m\n\u001b[0;32m      6\u001b[0m \u001b[1;33m\u001b[0m\u001b[0m\n\u001b[0;32m      7\u001b[0m     \u001b[1;31m# 调用命令行来与我交互\u001b[0m\u001b[1;33m\u001b[0m\u001b[1;33m\u001b[0m\u001b[0m\n\u001b[1;32m----> 8\u001b[1;33m     \u001b[0mcmd\u001b[0m \u001b[1;33m=\u001b[0m \u001b[1;34mf'echo {user_input} | python -c \"import sys; from datetime import datetime; from chatgpt import ChatGPT; model = ChatGPT(); user_input = sys.stdin.read(); response = model.get_response(user_input); print(f\\'ChatGPT: {response}\\')\"'\u001b[0m\u001b[1;33m\u001b[0m\u001b[1;33m\u001b[0m\u001b[0m\n\u001b[0m\u001b[0;32m      9\u001b[0m \u001b[1;33m\u001b[0m\u001b[0m\n\u001b[0;32m     10\u001b[0m     \u001b[1;32mtry\u001b[0m\u001b[1;33m:\u001b[0m\u001b[1;33m\u001b[0m\u001b[1;33m\u001b[0m\u001b[0m\n",
      "\u001b[1;31mNameError\u001b[0m: name 'response' is not defined"
     ]
    }
   ],
   "source": [
    "import openai\n",
    "\n",
    "# 替换为您的 OpenAI API 密钥\n",
    "api_key = \"YOUR_API_KEY\"\n",
    "\n",
    "# 初始化 OpenAI 客户端\n",
    "openai.api_key = api_key\n",
    "\n",
    "while True:\n",
    "    user_input = input(\"您: \")\n",
    "\n",
    "    # 使用 GPT-3 API 发送用户输入来获取回复\n",
    "    response = openai.Completion.create(\n",
    "        engine=\"text-davinci-002\",\n",
    "        prompt=f\"您说：{user_input}\\nChatGPT：\",\n",
    "        max_tokens=50,  # 控制回复的最大长度\n",
    "        stop=None  # 可选：在何时停止生成文本\n",
    "    )\n",
    "\n",
    "    # 提取 API 的回复并打印出来\n",
    "    chatgpt_response = response.choices[0].text\n",
    "    print(f\"ChatGPT: {chatgpt_response}\")\n"
   ]
  },
  {
   "cell_type": "code",
   "execution_count": null,
   "id": "7f2a870b",
   "metadata": {},
   "outputs": [],
   "source": []
  }
 ],
 "metadata": {
  "kernelspec": {
   "display_name": "Python 3 (ipykernel)",
   "language": "python",
   "name": "python3"
  },
  "language_info": {
   "codemirror_mode": {
    "name": "ipython",
    "version": 3
   },
   "file_extension": ".py",
   "mimetype": "text/x-python",
   "name": "python",
   "nbconvert_exporter": "python",
   "pygments_lexer": "ipython3",
   "version": "3.9.15"
  }
 },
 "nbformat": 4,
 "nbformat_minor": 5
}
