{
 "cells": [
  {
   "cell_type": "code",
   "execution_count": 2,
   "id": "cc3ac345",
   "metadata": {
    "ExecuteTime": {
     "end_time": "2023-04-20T05:33:42.208388Z",
     "start_time": "2023-04-20T05:33:41.832181Z"
    }
   },
   "outputs": [],
   "source": [
    "import numpy as np\n",
    "from matplotlib import pyplot as plt"
   ]
  },
  {
   "cell_type": "code",
   "execution_count": 3,
   "id": "3ca64a69",
   "metadata": {
    "ExecuteTime": {
     "end_time": "2023-04-20T05:36:00.746823Z",
     "start_time": "2023-04-20T05:36:00.686216Z"
    }
   },
   "outputs": [],
   "source": [
    "x1=np.linspace(0, 1000, num=1000)\n",
    "\n",
    "def xpow(x,n):\n",
    "    a"
   ]
  },
  {
   "cell_type": "code",
   "execution_count": null,
   "id": "f9125eb3",
   "metadata": {},
   "outputs": [],
   "source": [
    "y=xs(x1,1)\n",
    "plt.plot(x1,y)"
   ]
  },
  {
   "cell_type": "code",
   "execution_count": 11,
   "id": "162f54f5",
   "metadata": {
    "ExecuteTime": {
     "end_time": "2023-10-18T14:57:50.524634Z",
     "start_time": "2023-10-18T14:57:50.511477Z"
    }
   },
   "outputs": [
    {
     "name": "stdout",
     "output_type": "stream",
     "text": [
      "[10, 10, 10, 10, 10]\n",
      "nums: [4, 10, 10, 10, 10]\n",
      "[10, 10, 10, 10, 4]\n",
      "nums: [4, 10, 10, 10, 4]\n",
      "[10, 10, 10, 4, 4]\n",
      "nums: [4, 10, 10, 4, 4]\n",
      "[10, 10, 4, 4, 4]\n",
      "nums: [4, 10, 4, 4, 4]\n",
      "[10, 4, 4, 4, 4]\n",
      "nums: [4, 4, 4, 4, 4]\n"
     ]
    },
    {
     "data": {
      "text/plain": [
       "50"
      ]
     },
     "execution_count": 11,
     "metadata": {},
     "output_type": "execute_result"
    }
   ],
   "source": [
    "import math\n",
    "def maxKelements(nums,k):\n",
    "    r = 0\n",
    "    nums.sort(reverse=True)\n",
    "    \n",
    "    for i in range(k):\n",
    "        nums = sor(nums)\n",
    "        r += nums[0]\n",
    "        nums[0]=math.ceil(nums[0]/3)\n",
    "        print(\"nums:\",nums)\n",
    "    return r\n",
    "def sor(lis):\n",
    "    t=True\n",
    "    for i in range(1,len(lis)):\n",
    "        if lis[0]<=lis[i-1] and lis[0]>=lis[i]:\n",
    "            lis.insert(i,lis[0])\n",
    "            t=False\n",
    "            lis.pop(0)\n",
    "    if t:\n",
    "        lis.append(lis.pop(0))\n",
    "    print(lis)\n",
    "    return lis\n",
    "nums =[10,10,10,10,10]\n",
    "\n",
    "k =5\n",
    "maxKelements(nums,k)"
   ]
  },
  {
   "cell_type": "code",
   "execution_count": null,
   "id": "8db28f9e",
   "metadata": {},
   "outputs": [],
   "source": []
  }
 ],
 "metadata": {
  "kernelspec": {
   "display_name": "Python 3 (ipykernel)",
   "language": "python",
   "name": "python3"
  },
  "language_info": {
   "codemirror_mode": {
    "name": "ipython",
    "version": 3
   },
   "file_extension": ".py",
   "mimetype": "text/x-python",
   "name": "python",
   "nbconvert_exporter": "python",
   "pygments_lexer": "ipython3",
   "version": "3.9.15"
  }
 },
 "nbformat": 4,
 "nbformat_minor": 5
}
