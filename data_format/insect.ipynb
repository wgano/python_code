{
 "cells": [
  {
   "cell_type": "code",
   "execution_count": 4,
   "id": "43355591",
   "metadata": {
    "ExecuteTime": {
     "end_time": "2023-07-30T13:13:30.650083Z",
     "start_time": "2023-07-30T13:13:30.636796Z"
    }
   },
   "outputs": [],
   "source": [
    "def Insect_sort(list0):\n",
    "    for i in range(1,len(list0)):\n",
    "        while i > 0:\n",
    "            if list0[i]<list0[i-1]:\n",
    "                list0[i],list0[i-1]=list0[i-1],list0[i]\n",
    "            i -= 1\n",
    "                "
   ]
  },
  {
   "cell_type": "code",
   "execution_count": 5,
   "id": "00111a18",
   "metadata": {
    "ExecuteTime": {
     "end_time": "2023-07-30T13:13:31.043097Z",
     "start_time": "2023-07-30T13:13:31.035092Z"
    }
   },
   "outputs": [
    {
     "name": "stdout",
     "output_type": "stream",
     "text": [
      "[1, 2, 2, 4, 5, 6, 8, 9, 15, 34, 62, 62, 81]\n"
     ]
    }
   ],
   "source": [
    "if __name__ == \"__main__\":\n",
    "    li = [1,5,2,8,4,6,9,2,15,62,34,81,62]\n",
    "    Insect_sort(li)\n",
    "    print(li)"
   ]
  },
  {
   "cell_type": "code",
   "execution_count": null,
   "id": "89a58781",
   "metadata": {},
   "outputs": [],
   "source": []
  }
 ],
 "metadata": {
  "kernelspec": {
   "display_name": "Python 3 (ipykernel)",
   "language": "python",
   "name": "python3"
  },
  "language_info": {
   "codemirror_mode": {
    "name": "ipython",
    "version": 3
   },
   "file_extension": ".py",
   "mimetype": "text/x-python",
   "name": "python",
   "nbconvert_exporter": "python",
   "pygments_lexer": "ipython3",
   "version": "3.9.15"
  }
 },
 "nbformat": 4,
 "nbformat_minor": 5
}
