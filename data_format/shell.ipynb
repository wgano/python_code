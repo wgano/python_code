{
 "cells": [
  {
   "cell_type": "code",
   "execution_count": 2,
   "id": "3a741505",
   "metadata": {
    "ExecuteTime": {
     "end_time": "2023-07-30T13:18:09.328855Z",
     "start_time": "2023-07-30T13:18:09.324856Z"
    }
   },
   "outputs": [],
   "source": [
    "def Shell_sort(list0):\n",
    "    n = len(list0)\n",
    "    gap = n//2\n",
    "    while gap>0:\n",
    "        for i in range(gap,n):\n",
    "            while i>0:\n",
    "                if list0[i]<list0[i-gap]:\n",
    "                    list0[i],list0[i-gap]=list0[i-gap],list0[i]\n",
    "                    i -= gap\n",
    "                else:break\n",
    "        gap //= 2"
   ]
  },
  {
   "cell_type": "code",
   "execution_count": 3,
   "id": "34de19aa",
   "metadata": {
    "ExecuteTime": {
     "end_time": "2023-07-30T13:18:09.789420Z",
     "start_time": "2023-07-30T13:18:09.780432Z"
    }
   },
   "outputs": [
    {
     "name": "stdout",
     "output_type": "stream",
     "text": [
      "[1, 2, 2, 4, 5, 6, 8, 9, 15, 34, 62, 62, 81]\n"
     ]
    }
   ],
   "source": [
    "if __name__ == \"__main__\":\n",
    "    li = [1,5,2,8,4,6,9,2,15,62,34,81,62]\n",
    "    Shell_sort(li)\n",
    "    print(li)"
   ]
  },
  {
   "cell_type": "code",
   "execution_count": null,
   "id": "a408eb0c",
   "metadata": {},
   "outputs": [],
   "source": []
  }
 ],
 "metadata": {
  "kernelspec": {
   "display_name": "Python 3 (ipykernel)",
   "language": "python",
   "name": "python3"
  },
  "language_info": {
   "codemirror_mode": {
    "name": "ipython",
    "version": 3
   },
   "file_extension": ".py",
   "mimetype": "text/x-python",
   "name": "python",
   "nbconvert_exporter": "python",
   "pygments_lexer": "ipython3",
   "version": "3.9.15"
  }
 },
 "nbformat": 4,
 "nbformat_minor": 5
}
