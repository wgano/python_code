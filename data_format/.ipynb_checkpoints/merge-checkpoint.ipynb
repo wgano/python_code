{
 "cells": [
  {
   "cell_type": "code",
   "execution_count": 13,
   "id": "a1faa4a7",
   "metadata": {
    "ExecuteTime": {
     "end_time": "2023-07-30T13:37:04.973230Z",
     "start_time": "2023-07-30T13:37:04.963978Z"
    }
   },
   "outputs": [],
   "source": [
    "def Merge_sort(list0):\n",
    "    n = len(list0)\n",
    "    if n<=1:\n",
    "        return list0\n",
    "    mid = n//2\n",
    "    left_list = Merge_sort(list0[:mid])\n",
    "    right_list = Merge_sort(list0[mid:])\n",
    "    left_pointer,right_pointer = 0,0\n",
    "    result = []\n",
    "    while left_pointer<len(left_list) and right_pointer<len(right_list):\n",
    "        if left_list[left_pointer]<right_list[right_pointer]:\n",
    "            result.append(left_list[left_pointer])\n",
    "            left_pointer+=1\n",
    "        else:\n",
    "            result.append(right_list[right_pointer])\n",
    "            right_pointer+=1\n",
    "    result+=left_list[left_pointer:]\n",
    "    result+=right_list[right_pointer:]\n",
    "    return result"
   ]
  },
  {
   "cell_type": "code",
   "execution_count": 15,
   "id": "d8843cd8",
   "metadata": {
    "ExecuteTime": {
     "end_time": "2023-07-30T13:37:20.548095Z",
     "start_time": "2023-07-30T13:37:20.542093Z"
    }
   },
   "outputs": [
    {
     "name": "stdout",
     "output_type": "stream",
     "text": [
      "[1, 2, 2, 4, 5, 6, 8, 9, 15, 34, 62, 62, 81]\n"
     ]
    }
   ],
   "source": [
    "if __name__ == \"__main__\":\n",
    "    li = [1,5,2,8,4,6,9,2,15,62,34,81,62]\n",
    "    li = Merge_sort(li)\n",
    "    print(li)"
   ]
  },
  {
   "cell_type": "code",
   "execution_count": null,
   "id": "4c7aba6f",
   "metadata": {},
   "outputs": [],
   "source": []
  }
 ],
 "metadata": {
  "kernelspec": {
   "display_name": "Python 3 (ipykernel)",
   "language": "python",
   "name": "python3"
  },
  "language_info": {
   "codemirror_mode": {
    "name": "ipython",
    "version": 3
   },
   "file_extension": ".py",
   "mimetype": "text/x-python",
   "name": "python",
   "nbconvert_exporter": "python",
   "pygments_lexer": "ipython3",
   "version": "3.9.15"
  }
 },
 "nbformat": 4,
 "nbformat_minor": 5
}
