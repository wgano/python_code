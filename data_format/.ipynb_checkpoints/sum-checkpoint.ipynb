{
 "cells": [
  {
   "cell_type": "markdown",
   "id": "02926f0f",
   "metadata": {},
   "source": [
    "|排序方法|平均|最好|最坏|辅助空间|稳定性|\n",
    "|:--:|:--:|:--:|:--:|:--:|:--:|\n",
    "|冒泡|O(n^2)|O(n)|O(n^2)|O(1)|稳定|\n",
    "|选择|O(n^2)|O(n^2)|O(n^2)|O(1)|不稳定|\n",
    "|插入|O(n^2)|O(n)|O(n^2)|O(1)|稳定|\n",
    "|希尔|O(nlogn)-O(n^2)|O(n^1.3)|O(n^2)|O(1)|不稳定|\n",
    "|归并|O(nlogn)|O(nlogn)|O(nlogn)|O(n)|稳定|\n",
    "|快速|O(nlogn)|O(nlogn)|O(n^2)|O(logn)-O(n)|不稳定|\n"
   ]
  },
  {
   "cell_type": "code",
   "execution_count": 1,
   "id": "1ba3c0dc",
   "metadata": {
    "ExecuteTime": {
     "end_time": "2023-07-30T13:44:53.859807Z",
     "start_time": "2023-07-30T13:44:53.841794Z"
    },
    "code_folding": [
     0
    ]
   },
   "outputs": [],
   "source": [
    "def Bubble_sort(list0):\n",
    "    for i in range(len(list0)-1):\n",
    "        for j in range(len(list0)-1-i):\n",
    "            if list0[j]>list0[j+1]:\n",
    "                list0[j],list0[j+1]=list0[j+1],list0[j]"
   ]
  },
  {
   "cell_type": "code",
   "execution_count": 2,
   "id": "f9750148",
   "metadata": {
    "ExecuteTime": {
     "end_time": "2023-07-30T13:45:06.002105Z",
     "start_time": "2023-07-30T13:45:05.992069Z"
    },
    "code_folding": [
     0
    ]
   },
   "outputs": [],
   "source": [
    "def Select_sort(list0,start=0):\n",
    "    if start == len(list0)-1:\n",
    "        return\n",
    "    n = len(list0[start:])\n",
    "    for i in range(n):\n",
    "        if list0[i+start] <= list0[start]:\n",
    "            list0[start],list0[i+start] = list0[i+start],list0[start]\n",
    "    start+=1\n",
    "    Select_sort(list0,start)"
   ]
  },
  {
   "cell_type": "code",
   "execution_count": 3,
   "id": "c14242ae",
   "metadata": {
    "ExecuteTime": {
     "end_time": "2023-07-30T13:45:10.353573Z",
     "start_time": "2023-07-30T13:45:10.341570Z"
    },
    "code_folding": [
     0
    ]
   },
   "outputs": [],
   "source": [
    "def Insect_sort(list0):\n",
    "    for i in range(1,len(list0)):\n",
    "        while i > 0:\n",
    "            if list0[i]<list0[i-1]:\n",
    "                list0[i],list0[i-1]=list0[i-1],list0[i]\n",
    "            i -= 1"
   ]
  },
  {
   "cell_type": "code",
   "execution_count": 4,
   "id": "021db937",
   "metadata": {
    "ExecuteTime": {
     "end_time": "2023-07-30T13:45:24.692280Z",
     "start_time": "2023-07-30T13:45:24.684277Z"
    },
    "code_folding": [
     0
    ]
   },
   "outputs": [],
   "source": [
    "def Shell_sort(list0):\n",
    "    n = len(list0)\n",
    "    gap = n//2\n",
    "    while gap>0:\n",
    "        for i in range(gap,n):\n",
    "            while i>0:\n",
    "                if list0[i]<list0[i-gap]:\n",
    "                    list0[i],list0[i-gap]=list0[i-gap],list0[i]\n",
    "                    i -= gap\n",
    "                else:break\n",
    "        gap //= 2"
   ]
  },
  {
   "cell_type": "code",
   "execution_count": 5,
   "id": "d5ec7739",
   "metadata": {
    "ExecuteTime": {
     "end_time": "2023-07-30T13:45:29.356386Z",
     "start_time": "2023-07-30T13:45:29.345380Z"
    },
    "code_folding": [
     0
    ]
   },
   "outputs": [],
   "source": [
    "def Merge_sort(list0):\n",
    "    n = len(list0)\n",
    "    if n<=1:\n",
    "        return list0\n",
    "    mid = n//2\n",
    "    left_list = Merge_sort(list0[:mid])\n",
    "    right_list = Merge_sort(list0[mid:])\n",
    "    left_pointer,right_pointer = 0,0\n",
    "    result = []\n",
    "    while left_pointer<len(left_list) and right_pointer<len(right_list):\n",
    "        if left_list[left_pointer]<right_list[right_pointer]:\n",
    "            result.append(left_list[left_pointer])\n",
    "            left_pointer+=1\n",
    "        else:\n",
    "            result.append(right_list[right_pointer])\n",
    "            right_pointer+=1\n",
    "    result+=left_list[left_pointer:]\n",
    "    result+=right_list[right_pointer:]\n",
    "    return result"
   ]
  },
  {
   "cell_type": "code",
   "execution_count": 6,
   "id": "e7af00e0",
   "metadata": {
    "ExecuteTime": {
     "end_time": "2023-07-30T13:45:39.081909Z",
     "start_time": "2023-07-30T13:45:39.068797Z"
    },
    "code_folding": [
     0
    ]
   },
   "outputs": [],
   "source": [
    "def Quick_sort(list0,f,l):\n",
    "    if f>=l:\n",
    "        return\n",
    "    mid = list0[f]\n",
    "    low = f\n",
    "    high = l\n",
    "    while low<high:\n",
    "        while low<high and list0[high]>=mid:\n",
    "            high -= 1\n",
    "        list0[low]=list0[high]\n",
    "        while low<high and list0[low]<mid:\n",
    "            low += 1\n",
    "        list0[high]=list0[low]\n",
    "    list0[low] = mid\n",
    "    Quick_sort(list0,f,low-1)\n",
    "    Quick_sort(list0,low+1,l)"
   ]
  },
  {
   "cell_type": "code",
   "execution_count": null,
   "id": "9339ba9d",
   "metadata": {},
   "outputs": [],
   "source": [
    "if __name__ == \"__main__\":\n",
    "    li = [1,5,2,8,4,6,9,2,15,62,34,81,62]\n",
    "    _sort(li)\n",
    "    print(li)"
   ]
  }
 ],
 "metadata": {
  "kernelspec": {
   "display_name": "Python 3 (ipykernel)",
   "language": "python",
   "name": "python3"
  },
  "language_info": {
   "codemirror_mode": {
    "name": "ipython",
    "version": 3
   },
   "file_extension": ".py",
   "mimetype": "text/x-python",
   "name": "python",
   "nbconvert_exporter": "python",
   "pygments_lexer": "ipython3",
   "version": "3.9.15"
  }
 },
 "nbformat": 4,
 "nbformat_minor": 5
}
