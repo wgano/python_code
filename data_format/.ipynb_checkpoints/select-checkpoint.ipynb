{
 "cells": [
  {
   "cell_type": "code",
   "execution_count": 5,
   "id": "6bdc3b81",
   "metadata": {
    "ExecuteTime": {
     "end_time": "2023-07-30T13:00:28.966131Z",
     "start_time": "2023-07-30T13:00:28.951150Z"
    }
   },
   "outputs": [],
   "source": [
    "def Select_sort(list0,start=0):\n",
    "    if start == len(list0)-1:\n",
    "        return\n",
    "    n = len(list0[start:])\n",
    "    for i in range(n):\n",
    "        if list0[i+start] <= list0[start]:\n",
    "            list0[start],list0[i+start] = list0[i+start],list0[start]\n",
    "    start+=1\n",
    "    Select_sort(list0,start)\n"
   ]
  },
  {
   "cell_type": "code",
   "execution_count": 6,
   "id": "ea207e28",
   "metadata": {
    "ExecuteTime": {
     "end_time": "2023-07-30T13:00:29.279419Z",
     "start_time": "2023-07-30T13:00:29.272415Z"
    }
   },
   "outputs": [
    {
     "name": "stdout",
     "output_type": "stream",
     "text": [
      "[1, 2, 2, 4, 5, 6, 8, 9, 15, 34, 62, 62, 81]\n"
     ]
    }
   ],
   "source": [
    "if __name__ == \"__main__\":\n",
    "    li = [1,5,2,8,4,6,9,2,15,62,34,81,62]\n",
    "    Select_sort(li)\n",
    "    print(li)"
   ]
  },
  {
   "cell_type": "code",
   "execution_count": null,
   "id": "651ab6d0",
   "metadata": {},
   "outputs": [],
   "source": []
  }
 ],
 "metadata": {
  "kernelspec": {
   "display_name": "Python 3 (ipykernel)",
   "language": "python",
   "name": "python3"
  },
  "language_info": {
   "codemirror_mode": {
    "name": "ipython",
    "version": 3
   },
   "file_extension": ".py",
   "mimetype": "text/x-python",
   "name": "python",
   "nbconvert_exporter": "python",
   "pygments_lexer": "ipython3",
   "version": "3.9.15"
  }
 },
 "nbformat": 4,
 "nbformat_minor": 5
}
