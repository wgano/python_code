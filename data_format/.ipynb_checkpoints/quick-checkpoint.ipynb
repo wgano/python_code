{
 "cells": [
  {
   "cell_type": "code",
   "execution_count": 1,
   "id": "b687ab9c",
   "metadata": {
    "ExecuteTime": {
     "end_time": "2023-07-30T13:25:53.568772Z",
     "start_time": "2023-07-30T13:25:53.556762Z"
    }
   },
   "outputs": [],
   "source": [
    "def Quick_sort(list0,f,l):\n",
    "    if f>=l:\n",
    "        return\n",
    "    mid = list0[f]\n",
    "    low = f\n",
    "    high = l\n",
    "    while low<high:\n",
    "        while low<high and list0[high]>=mid:\n",
    "            high -= 1\n",
    "        list0[low]=list0[high]\n",
    "        while low<high and list0[low]<mid:\n",
    "            low += 1\n",
    "        list0[high]=list0[low]\n",
    "    list0[low] = mid\n",
    "    Quick_sort(list0,f,low-1)\n",
    "    Quick_sort(list0,low+1,l)"
   ]
  },
  {
   "cell_type": "code",
   "execution_count": 2,
   "id": "122eb072",
   "metadata": {
    "ExecuteTime": {
     "end_time": "2023-07-30T13:25:53.587075Z",
     "start_time": "2023-07-30T13:25:53.569021Z"
    }
   },
   "outputs": [
    {
     "name": "stdout",
     "output_type": "stream",
     "text": [
      "[1, 2, 2, 4, 5, 6, 8, 9, 15, 34, 62, 62, 81]\n"
     ]
    }
   ],
   "source": [
    "if __name__ == \"__main__\":\n",
    "    li = [1,5,2,8,4,6,9,2,15,62,34,81,62]\n",
    "    Quick_sort(li,0,len(li)-1)\n",
    "    print(li)"
   ]
  },
  {
   "cell_type": "code",
   "execution_count": null,
   "id": "e91ad0c5",
   "metadata": {},
   "outputs": [],
   "source": []
  }
 ],
 "metadata": {
  "kernelspec": {
   "display_name": "Python 3 (ipykernel)",
   "language": "python",
   "name": "python3"
  },
  "language_info": {
   "codemirror_mode": {
    "name": "ipython",
    "version": 3
   },
   "file_extension": ".py",
   "mimetype": "text/x-python",
   "name": "python",
   "nbconvert_exporter": "python",
   "pygments_lexer": "ipython3",
   "version": "3.9.15"
  }
 },
 "nbformat": 4,
 "nbformat_minor": 5
}
