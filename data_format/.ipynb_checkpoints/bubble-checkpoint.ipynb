{
 "cells": [
  {
   "cell_type": "code",
   "execution_count": 30,
   "id": "5d4dd7b6",
   "metadata": {
    "ExecuteTime": {
     "end_time": "2023-07-30T13:04:54.044198Z",
     "start_time": "2023-07-30T13:04:54.038142Z"
    }
   },
   "outputs": [],
   "source": [
    "def Bubble_sort(list0):\n",
    "    for i in range(len(list0)-1):\n",
    "        for j in range(len(list0)-1-i):\n",
    "            if list0[j]>list0[j+1]:\n",
    "                list0[j],list0[j+1]=list0[j+1],list0[j]\n",
    "\n",
    "\n",
    "        "
   ]
  },
  {
   "cell_type": "code",
   "execution_count": 31,
   "id": "89427184",
   "metadata": {
    "ExecuteTime": {
     "end_time": "2023-07-30T13:04:54.202962Z",
     "start_time": "2023-07-30T13:04:54.191954Z"
    }
   },
   "outputs": [
    {
     "name": "stdout",
     "output_type": "stream",
     "text": [
      "[1, 2, 2, 4, 5, 6, 8, 9, 15, 34, 62, 62, 81]\n"
     ]
    }
   ],
   "source": [
    "if __name__ == \"__main__\":\n",
    "    li = [1,5,2,8,4,6,9,2,15,62,34,81,62]\n",
    "    Bubble_sort(li)\n",
    "    print(li)"
   ]
  },
  {
   "cell_type": "code",
   "execution_count": null,
   "id": "56c68be1",
   "metadata": {},
   "outputs": [],
   "source": []
  }
 ],
 "metadata": {
  "kernelspec": {
   "display_name": "Python 3 (ipykernel)",
   "language": "python",
   "name": "python3"
  },
  "language_info": {
   "codemirror_mode": {
    "name": "ipython",
    "version": 3
   },
   "file_extension": ".py",
   "mimetype": "text/x-python",
   "name": "python",
   "nbconvert_exporter": "python",
   "pygments_lexer": "ipython3",
   "version": "3.9.15"
  }
 },
 "nbformat": 4,
 "nbformat_minor": 5
}
