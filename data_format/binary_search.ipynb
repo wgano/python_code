{
 "cells": [
  {
   "cell_type": "markdown",
   "id": "19014134",
   "metadata": {},
   "source": [
    "|二分查找|最优O(1)|最坏O(logn)|\n",
    "|:--:|:--:|:--:|"
   ]
  },
  {
   "cell_type": "code",
   "execution_count": 10,
   "id": "03ac8676",
   "metadata": {
    "ExecuteTime": {
     "end_time": "2023-07-30T15:18:48.592398Z",
     "start_time": "2023-07-30T15:18:48.576355Z"
    }
   },
   "outputs": [],
   "source": [
    "def Binary_search(li,item):\n",
    "    n = len(li)\n",
    "    if n >0:\n",
    "        mid = n//2\n",
    "        if li[mid]==item:\n",
    "            return True\n",
    "        elif li[mid]<item:\n",
    "            return Binary_search(li[mid+1:],item)\n",
    "        elif li[mid]>item:\n",
    "            return Binary_search(li[:mid],item)\n",
    "    return False"
   ]
  },
  {
   "cell_type": "code",
   "execution_count": 11,
   "id": "c8ca9d86",
   "metadata": {
    "ExecuteTime": {
     "end_time": "2023-07-30T15:18:48.815049Z",
     "start_time": "2023-07-30T15:18:48.809047Z"
    }
   },
   "outputs": [
    {
     "name": "stdout",
     "output_type": "stream",
     "text": [
      "False\n",
      "True\n"
     ]
    }
   ],
   "source": [
    "if __name__ == \"__main__\":\n",
    "    li = [1,2,5,9,12,21,62,84,94,103]\n",
    "    print(Binary_search(li,50))\n",
    "    print(Binary_search(li,62))"
   ]
  }
 ],
 "metadata": {
  "kernelspec": {
   "display_name": "Python 3 (ipykernel)",
   "language": "python",
   "name": "python3"
  },
  "language_info": {
   "codemirror_mode": {
    "name": "ipython",
    "version": 3
   },
   "file_extension": ".py",
   "mimetype": "text/x-python",
   "name": "python",
   "nbconvert_exporter": "python",
   "pygments_lexer": "ipython3",
   "version": "3.9.15"
  }
 },
 "nbformat": 4,
 "nbformat_minor": 5
}
