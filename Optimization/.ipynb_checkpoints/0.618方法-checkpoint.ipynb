{
 "cells": [
  {
   "cell_type": "code",
   "execution_count": 14,
   "id": "58f33f81",
   "metadata": {
    "ExecuteTime": {
     "end_time": "2023-09-25T15:24:25.572593Z",
     "start_time": "2023-09-25T15:24:25.565461Z"
    }
   },
   "outputs": [],
   "source": [
    "import numpy\n",
    "\n",
    "def fun(x):\n",
    "    f = 1-x*(numpy.e**(-(x**2)))\n",
    "    return f\n",
    "\n",
    "def first(a_0,b_0,epsilion,tau):\n",
    "    a_i = a_0\n",
    "    b_i = b_0\n",
    "    return second(a_i,b_i,epsilion,tau)\n",
    "\n",
    "def second(a_i,b_i,epsilion,tau):\n",
    "    if b_i-a_i < epsilion:\n",
    "        a_ans = (b_i+a_i)/2\n",
    "#         print(a_i,b_i,a_ans)\n",
    "#         print(a_ans)\n",
    "        return a_ans\n",
    "    else:\n",
    "        return third(a_i,b_i,epsilion,tau)\n",
    "\n",
    "def third(a_i,b_i,epsilion,tau):\n",
    "    alpha_l = a_i+(1-tau)*(b_i-a_i)\n",
    "    alpha_r = a_i+tau*(b_i-a_i)\n",
    "    return fourth(alpha_l,alpha_r,a_i,b_i,epsilion,tau)\n",
    "\n",
    "def fourth(alpha_l,alpha_r,a_i,b_i,epsilion,tau):\n",
    "    if fun(alpha_l) < fun(alpha_r):\n",
    "        b_i = alpha_r\n",
    "    else:\n",
    "        a_i = alpha_l\n",
    "#     print(a_i,b_i)\n",
    "    \n",
    "    return second(a_i,b_i,epsilion,tau)\n",
    "\n"
   ]
  },
  {
   "cell_type": "code",
   "execution_count": 18,
   "id": "436faa66",
   "metadata": {
    "ExecuteTime": {
     "end_time": "2023-09-25T15:25:10.168518Z",
     "start_time": "2023-09-25T15:25:10.157876Z"
    },
    "scrolled": false
   },
   "outputs": [
    {
     "data": {
      "text/plain": [
       "0.5711180575196468"
      ]
     },
     "execution_count": 18,
     "metadata": {},
     "output_type": "execute_result"
    }
   ],
   "source": [
    "fun(first(0,1,0.00000000001,0.618))"
   ]
  },
  {
   "cell_type": "code",
   "execution_count": 16,
   "id": "0d698b17",
   "metadata": {
    "ExecuteTime": {
     "end_time": "2023-09-25T15:24:38.219718Z",
     "start_time": "2023-09-25T15:24:38.205626Z"
    }
   },
   "outputs": [
    {
     "data": {
      "text/plain": [
       "0.5711180800166269"
      ]
     },
     "execution_count": 16,
     "metadata": {},
     "output_type": "execute_result"
    }
   ],
   "source": [
    "fun(first(0,1,0.01,0.618))"
   ]
  },
  {
   "cell_type": "code",
   "execution_count": null,
   "id": "ca211f0d",
   "metadata": {},
   "outputs": [],
   "source": []
  }
 ],
 "metadata": {
  "kernelspec": {
   "display_name": "Python 3 (ipykernel)",
   "language": "python",
   "name": "python3"
  },
  "language_info": {
   "codemirror_mode": {
    "name": "ipython",
    "version": 3
   },
   "file_extension": ".py",
   "mimetype": "text/x-python",
   "name": "python",
   "nbconvert_exporter": "python",
   "pygments_lexer": "ipython3",
   "version": "3.9.15"
  }
 },
 "nbformat": 4,
 "nbformat_minor": 5
}
