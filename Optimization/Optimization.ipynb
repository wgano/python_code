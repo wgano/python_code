{
 "cells": [
  {
   "cell_type": "markdown",
   "id": "4209ed4c",
   "metadata": {},
   "source": [
    "# 数值最优化的Python实现\n",
    "在给定算法时,我们也会给定目标函数fun()和目标函数的梯度函数gfun()"
   ]
  },
  {
   "cell_type": "markdown",
   "id": "c3284f5b",
   "metadata": {},
   "source": [
    "## 无约束最优化方法的基本结构\n",
    "**无约束最优化算法的基本结构:**\n",
    "\n",
    "1. 给定初始点$x_{0}\\in R^{n},k:=0$\n",
    "2. 如果此时满足终止准则,输出结果否则下一步\n",
    "3. 确定下降方向$d_{k}$\n",
    "4. 确定步长$\\alpha_{k}$使$f(x_{k}+\\alpha_{k}d_{k})<f(x_{k})$\n",
    "5. 令$x_{k+1}:=x_{k}+\\alpha_{k}d_{k},k:=k+1$ 转第二步\n",
    "\n",
    "总之就是一个函数确定一个方向让他可以变小,在确定一个不长不短的步长"
   ]
  },
  {
   "cell_type": "code",
   "execution_count": null,
   "id": "7a8d3e68",
   "metadata": {},
   "outputs": [],
   "source": [
    "#求Hesse矩阵\n",
    "def Hesse(fun):\n",
    "    \n",
    "    return hesse\n",
    "#判断矩阵是否正定\n",
    "def RC(hesse):\n",
    "\n",
    "    return 0#0,1,2,3分别代表正定,半正定,半负定,负定\n",
    "\n",
    "#求范数\n",
    "def norm(x,n):\n",
    "    return ((sum(x**n))**(1/n))\n"
   ]
  },
  {
   "cell_type": "markdown",
   "id": "c44c8b17",
   "metadata": {},
   "source": [
    "**最优性条件**"
   ]
  },
  {
   "cell_type": "code",
   "execution_count": null,
   "id": "135177db",
   "metadata": {},
   "outputs": [],
   "source": [
    "#一阶必要条件\n",
    "def o_must(gfun,x):\n",
    "    if gfun(x)==0:\n",
    "        return True\n",
    "    else:\n",
    "        return False\n",
    "#二阶必要条件\n",
    "def t_must(hesse):\n",
    "    if RC(hesse)==1:\n",
    "        return True\n",
    "    else:\n",
    "        return False\n",
    "#二阶充分条件\n",
    "def t_suff(gfun,x,hesse):\n",
    "    if gfun(x)==0 and RC(hesse)==0:\n",
    "        return True\n",
    "    else:\n",
    "        return False"
   ]
  },
  {
   "cell_type": "markdown",
   "id": "b5e40b2e",
   "metadata": {},
   "source": [
    "**终止准则**"
   ]
  },
  {
   "cell_type": "code",
   "execution_count": 5,
   "id": "92fbf99f",
   "metadata": {
    "ExecuteTime": {
     "end_time": "2023-11-02T14:00:18.907188Z",
     "start_time": "2023-11-02T14:00:18.899080Z"
    }
   },
   "outputs": [],
   "source": [
    "def end_cond(x1,x2,epsilon,gfun=None,fun=None,mode=2):\n",
    "    if mode==1:\n",
    "        if norm(gfun(x1),2)<=epsilon:\n",
    "            return True\n",
    "        else:\n",
    "            return False\n",
    "    elif mode==2:\n",
    "        if norm(x2-x1,2)<=epsilon:\n",
    "            return True\n",
    "        else:\n",
    "            return False\n",
    "    elif mode==2:\n",
    "        if fun(x1)-fun(x2)<=epsilon:\n",
    "            return True\n",
    "        else:\n",
    "            return False"
   ]
  },
  {
   "cell_type": "markdown",
   "id": "636b8e5a",
   "metadata": {},
   "source": [
    "**收敛性与收敛速度**"
   ]
  },
  {
   "cell_type": "code",
   "execution_count": null,
   "id": "2cf452ec",
   "metadata": {},
   "outputs": [],
   "source": [
    "#判断线性收敛和超线性收敛\n",
    "def linear_converge(opt_fun,x_,k):#给一个函数opt_fun传入一个点返回下一个迭代点,传入解x_和迭代次数k,这里k要趋近于正无穷,我们就给一个大一点的数\n",
    "    for i in range(k):\n",
    "        a = opt_fun(a)#获得第k次迭代的点\n",
    "    b = norm(opt_fun(a)-x_,2)/norm(a-x_,2)#将第k+1次迭代的点减解的 二范数 除以 第k次迭代的点减解的 二范数\n",
    "    if b == 0:\n",
    "        return \"sup_linear\"#超线性收敛\n",
    "    elif b>0 and b<1:\n",
    "        return \"linear_converge\"#线性收敛\n",
    "    else:\n",
    "        return \"no_linear_congverge\"#非线性收敛\n",
    "\n",
    "#判断二阶收敛\n",
    "def double_converge(opt_fun,x_,k):#同上\n",
    "    for i in range(k):\n",
    "        a = opt_fun(a)#获得第k次迭代的点\n",
    "    b = norm(opt_fun(a)-x_,2)/norm(a-x_,2)**2#将第k+1次迭代的点减解的 二范数 除以 第k次迭代的点减解的 二范数 的平方\n",
    "    if b>0 and b<1:\n",
    "        return \"double_converge\"#二阶收敛\n",
    "    else:\n",
    "        return \"no_double_congverge\""
   ]
  },
  {
   "cell_type": "markdown",
   "id": "19f3d32d",
   "metadata": {},
   "source": [
    "**线搜索准则**"
   ]
  },
  {
   "attachments": {
    "image-2.png": {
     "image/png": "[encoded data removed]"
    }
   },
   "cell_type": "markdown",
   "id": "83ddb94d",
   "metadata": {},
   "source": [
    "![image-2.png](attachment:image-2.png)"
   ]
  },
  {
   "cell_type": "code",
   "execution_count": null,
   "id": "d512e08d",
   "metadata": {},
   "outputs": [],
   "source": [
    "def pl_search(gfun,x,hesse):\n",
    "    return gfun(x).^2/gfun(x)^T*hesse(x)*gfun(x)"
   ]
  },
  {
   "cell_type": "markdown",
   "id": "3a15b320",
   "metadata": {},
   "source": [
    "**进退法**"
   ]
  },
  {
   "cell_type": "code",
   "execution_count": null,
   "id": "b811e497",
   "metadata": {},
   "outputs": [],
   "source": [
    "def LF(fun,alpha,y,t):\n",
    "    i=0"
   ]
  },
  {
   "cell_type": "markdown",
   "id": "a8f1e86e",
   "metadata": {},
   "source": [
    "**0.618方法**"
   ]
  },
  {
   "cell_type": "code",
   "execution_count": null,
   "id": "d229baea",
   "metadata": {},
   "outputs": [],
   "source": [
    "import numpy\n",
    "def fun(x):\n",
    "    f = 1-x*(numpy.e**(-(x**2)))\n",
    "    return f\n",
    "def first(a_0,b_0,epsilion,tau):\n",
    "    a_i = a_0\n",
    "    b_i = b_0\n",
    "    return second(a_i,b_i,epsilion,tau)\n",
    "def second(a_i,b_i,epsilion,tau):\n",
    "    if b_i-a_i < epsilion:\n",
    "        a_ans = (b_i+a_i)/2\n",
    "#         print(a_i,b_i,a_ans)\n",
    "#         print(a_ans)\n",
    "        return a_ans\n",
    "    else:\n",
    "        return third(a_i,b_i,epsilion,tau)\n",
    "def third(a_i,b_i,epsilion,tau):\n",
    "    alpha_l = a_i+(1-tau)*(b_i-a_i)\n",
    "    alpha_r = a_i+tau*(b_i-a_i)\n",
    "    return fourth(alpha_l,alpha_r,a_i,b_i,epsilion,tau)\n",
    "def fourth(alpha_l,alpha_r,a_i,b_i,epsilion,tau):\n",
    "    if fun(alpha_l) < fun(alpha_r):\n",
    "        b_i = alpha_r\n",
    "    else:\n",
    "        a_i = alpha_l\n",
    "#     print(a_i,b_i)\n",
    "    return second(a_i,b_i,epsilion,tau)"
   ]
  },
  {
   "cell_type": "markdown",
   "id": "5bd041cf",
   "metadata": {},
   "source": [
    "**信赖域方法**"
   ]
  },
  {
   "cell_type": "code",
   "execution_count": null,
   "id": "7e508e84",
   "metadata": {},
   "outputs": [],
   "source": []
  },
  {
   "cell_type": "markdown",
   "id": "c7eb76db",
   "metadata": {},
   "source": [
    "**拟牛顿法**"
   ]
  },
  {
   "cell_type": "code",
   "execution_count": 2,
   "id": "d9042e43",
   "metadata": {
    "ExecuteTime": {
     "end_time": "2023-11-07T06:11:57.065154Z",
     "start_time": "2023-11-07T06:11:42.519480Z"
    }
   },
   "outputs": [],
   "source": [
    "from scipy.optimize import fmin_powell, fmin_bfgs, fmin_cg, minimize, SR1\n",
    "import numpy as np\n",
    "import matplotlib.pyplot as plt\n",
    "\n",
    "def r(i, x):\n",
    "    if i % 2 == 1:\n",
    "        return 10 * (x[i] - x[i - 1] ** 2)  # 因为ndarray数组的index是从0开始的， i多减一个\n",
    "    else:\n",
    "        return 1 - x[i - 2]\n",
    "\n",
    "def f(m):\n",
    "    def result(x):\n",
    "        return sum([r(i, x) ** 2 for i in range(1, m + 1)])\n",
    "    return result"
   ]
  },
  {
   "cell_type": "code",
   "execution_count": 3,
   "id": "05fb8e63",
   "metadata": {
    "ExecuteTime": {
     "end_time": "2023-11-07T06:11:59.351783Z",
     "start_time": "2023-11-07T06:11:59.335257Z"
    }
   },
   "outputs": [],
   "source": [
    "# 获取retall的每个点的值损失|f(x) - f(x^*)|\n",
    "def getLosses(retall, target_point, func):\n",
    "    \"\"\"\n",
    "    :param retall: 存储迭代过程中每个迭代点的列表，列表的每个元素时一个ndarray对象\n",
    "    :param target_point: 最优点，是ndarray对象\n",
    "    :param func: 优化函数的映射f\n",
    "    :return: 返回一个列表，代表retall中每个点到最优点的欧氏距离\n",
    "    \"\"\"\n",
    "    losses = []\n",
    "    for point in retall:\n",
    "        losses.append(np.abs(func(target_point) - func(point)))\n",
    "    return losses"
   ]
  },
  {
   "cell_type": "code",
   "execution_count": 4,
   "id": "f6f2e47f",
   "metadata": {
    "ExecuteTime": {
     "end_time": "2023-11-07T06:12:11.077903Z",
     "start_time": "2023-11-07T06:12:11.053822Z"
    }
   },
   "outputs": [],
   "source": [
    "sr1_losses = [] # 存储SR1的retall的列表\n",
    "func = f(4) # 获取需要优化的函数\n",
    "\n",
    "# 通过callback方法来添加迭代的停止条件\n",
    "def getCallback(func, target_point, ftol, retall):\n",
    "    \"\"\"\n",
    "    :param func: 优化目标的函数\n",
    "    :param target_point:  目标收敛点\n",
    "    :param ftol: 收敛条件：|f(x) - f(x^*)| < ftol时，迭代停止\n",
    "    :param retall: 是否存储迭代信息\n",
    "    :param extern_retall: 如果retall为True， 填入一个列表，迭代信息会存在这个列表中\n",
    "    :return: call_back函数对象\n",
    "    \"\"\"\n",
    "    def result(xk, state=None):\n",
    "        if retall:\n",
    "            global func, sr1_losses\n",
    "        loss = np.abs(func(target_point) - func(xk))\n",
    "        if loss < ftol:\n",
    "            return True\n",
    "        else:\n",
    "            if retall:\n",
    "                sr1_losses.append(loss)\n",
    "            return False\n",
    "    return result"
   ]
  },
  {
   "cell_type": "code",
   "execution_count": 5,
   "id": "aeddd09c",
   "metadata": {
    "ExecuteTime": {
     "end_time": "2023-11-07T06:12:17.487113Z",
     "start_time": "2023-11-07T06:12:17.463350Z"
    }
   },
   "outputs": [],
   "source": [
    "# 绘制下降曲线\n",
    "def plotDownCurve(dpi, losses, labels, xlabel=None, ylabel=None, title=None, grid=True):\n",
    "    plt.figure(dpi=dpi)\n",
    "    for loss, label in zip(losses, labels):\n",
    "        plt.plot(loss, label=label)\n",
    "    plt.xlabel(xlabel, fontsize=12)\n",
    "    plt.ylabel(ylabel, fontsize=12)\n",
    "    plt.title(title, fontsize=18)\n",
    "    plt.yscale(\"log\")\n",
    "    plt.grid(grid)\n",
    "    plt.legend()"
   ]
  },
  {
   "cell_type": "code",
   "execution_count": 6,
   "id": "48550f4b",
   "metadata": {
    "ExecuteTime": {
     "end_time": "2023-11-07T06:12:33.607675Z",
     "start_time": "2023-11-07T06:12:33.583476Z"
    }
   },
   "outputs": [],
   "source": [
    "x_0 = np.array([1.2,1.0,1.0,1.0])   # 迭代初值\n",
    "target_point = np.array([1,1,1,1], dtype=\"float32\")     # 最优点\n",
    "FTOL = 1e-8     # 终止阈值\n",
    "\n",
    "sr1_callback = getCallback(func, target_point, ftol=FTOL, retall=True)\n",
    "dfp_callback = getCallback(func, target_point, ftol=FTOL, retall=False)\n",
    "bfgs_callback = getCallback(func, target_point, ftol=FTOL, retall=False)"
   ]
  },
  {
   "cell_type": "code",
   "execution_count": 7,
   "id": "5cfae9b6",
   "metadata": {
    "ExecuteTime": {
     "end_time": "2023-11-07T06:12:47.816581Z",
     "start_time": "2023-11-07T06:12:43.323653Z"
    }
   },
   "outputs": [],
   "source": [
    "minimum = minimize(fun=f(4), x0=x_0,        # 通过minimize函数执行SR1，根据内嵌的callback填充loss，并返回OptimizerResult对象\n",
    "                   method=\"trust-constr\",\n",
    "                   hess=SR1(),\n",
    "                   callback=sr1_callback)\n",
    "\n",
    "dfp_minimum, dfp_retall = fmin_powell(func=func, x0=x_0,\n",
    "                                      retall=True,\n",
    "                                      disp=False,\n",
    "                                      callback=dfp_callback)\n",
    "dfp_losses = getLosses(dfp_retall, target_point, func=func)\n",
    "\n",
    "bfgs_minimum, bfgs_retall = fmin_bfgs(f=func, x0=x_0,\n",
    "                                      retall=True,\n",
    "                                      disp=False,\n",
    "                                      callback=bfgs_callback)\n",
    "bfgs_losses = getLosses(bfgs_retall, target_point, func=func)"
   ]
  },
  {
   "cell_type": "code",
   "execution_count": 8,
   "id": "5123f1aa",
   "metadata": {
    "ExecuteTime": {
     "end_time": "2023-11-07T06:12:49.910278Z",
     "start_time": "2023-11-07T06:12:49.238917Z"
    },
    "scrolled": false
   },
   "outputs": [
    {
     "data": {
      "image/png": "[encoded data removed]",
      "text/plain": [
       "<Figure size 960x720 with 1 Axes>"
      ]
     },
     "metadata": {},
     "output_type": "display_data"
    }
   ],
   "source": [
    "plotDownCurve(dpi=150,  \n",
    "              losses=[sr1_losses, dfp_losses, bfgs_losses],\n",
    "              labels=[\"SR1\", \"DFP\", \"BFGS\"],\n",
    "              xlabel=\"#iter\",   \n",
    "              ylabel=\"value of $|f(x) - f(x^*)|$\",\n",
    "              title=\"losses curve of SR1, DFP and BFGS\")\n",
    "plt.show()  "
   ]
  },
  {
   "cell_type": "code",
   "execution_count": null,
   "id": "07cddd52",
   "metadata": {},
   "outputs": [],
   "source": []
  }
 ],
 "metadata": {
  "kernelspec": {
   "display_name": "Python 3 (ipykernel)",
   "language": "python",
   "name": "python3"
  },
  "language_info": {
   "codemirror_mode": {
    "name": "ipython",
    "version": 3
   },
   "file_extension": ".py",
   "mimetype": "text/x-python",
   "name": "python",
   "nbconvert_exporter": "python",
   "pygments_lexer": "ipython3",
   "version": "3.9.15"
  }
 },
 "nbformat": 4,
 "nbformat_minor": 5
}
